{
 "cells": [
  {
   "metadata": {},
   "cell_type": "markdown",
   "source": "## Backtesting Framework",
   "id": "8ee9c8a802d38408"
  },
  {
   "metadata": {
    "ExecuteTime": {
     "end_time": "2025-06-08T08:32:09.652849Z",
     "start_time": "2025-06-08T08:32:09.617014Z"
    }
   },
   "cell_type": "code",
   "source": "import pandas as pd",
   "id": "4024d5fc0779d714",
   "outputs": [],
   "execution_count": 3
  },
  {
   "metadata": {
    "ExecuteTime": {
     "end_time": "2025-06-08T08:32:11.229426Z",
     "start_time": "2025-06-08T08:32:09.784220Z"
    }
   },
   "cell_type": "code",
   "source": "df = pd.read_csv(\"Data/TrainingData.csv\")",
   "id": "35dc2751c264c9e5",
   "outputs": [],
   "execution_count": 4
  },
  {
   "metadata": {
    "ExecuteTime": {
     "end_time": "2025-06-08T08:32:11.559985Z",
     "start_time": "2025-06-08T08:32:11.398837Z"
    }
   },
   "cell_type": "code",
   "source": "df = df.drop(columns=[\"Unnamed: 0\", 'Unnamed: 0.1']).rename(columns={'instrumnet': 'instrument'})",
   "id": "d750d226c2dda817",
   "outputs": [],
   "execution_count": 5
  },
  {
   "metadata": {
    "ExecuteTime": {
     "end_time": "2025-06-08T08:32:11.602037Z",
     "start_time": "2025-06-08T08:32:11.581873Z"
    }
   },
   "cell_type": "code",
   "source": "df.head()",
   "id": "31ed4cb6341708e6",
   "outputs": [
    {
     "data": {
      "text/plain": [
       "         date   open   high    low  close  volume instrument\n",
       "0  2012-01-02  87.95  93.80  87.10  89.15  124736   A2ZINFRA\n",
       "1  2012-01-03  89.55  91.15  89.10  89.70  275034   A2ZINFRA\n",
       "2  2012-01-04  90.45  90.50  87.50  88.35  241157   A2ZINFRA\n",
       "3  2012-01-05  89.10  93.45  86.55  87.60  226102   A2ZINFRA\n",
       "4  2012-01-06  87.00  89.45  86.30  87.70   97276   A2ZINFRA"
      ],
      "text/html": [
       "<div>\n",
       "<style scoped>\n",
       "    .dataframe tbody tr th:only-of-type {\n",
       "        vertical-align: middle;\n",
       "    }\n",
       "\n",
       "    .dataframe tbody tr th {\n",
       "        vertical-align: top;\n",
       "    }\n",
       "\n",
       "    .dataframe thead th {\n",
       "        text-align: right;\n",
       "    }\n",
       "</style>\n",
       "<table border=\"1\" class=\"dataframe\">\n",
       "  <thead>\n",
       "    <tr style=\"text-align: right;\">\n",
       "      <th></th>\n",
       "      <th>date</th>\n",
       "      <th>open</th>\n",
       "      <th>high</th>\n",
       "      <th>low</th>\n",
       "      <th>close</th>\n",
       "      <th>volume</th>\n",
       "      <th>instrument</th>\n",
       "    </tr>\n",
       "  </thead>\n",
       "  <tbody>\n",
       "    <tr>\n",
       "      <th>0</th>\n",
       "      <td>2012-01-02</td>\n",
       "      <td>87.95</td>\n",
       "      <td>93.80</td>\n",
       "      <td>87.10</td>\n",
       "      <td>89.15</td>\n",
       "      <td>124736</td>\n",
       "      <td>A2ZINFRA</td>\n",
       "    </tr>\n",
       "    <tr>\n",
       "      <th>1</th>\n",
       "      <td>2012-01-03</td>\n",
       "      <td>89.55</td>\n",
       "      <td>91.15</td>\n",
       "      <td>89.10</td>\n",
       "      <td>89.70</td>\n",
       "      <td>275034</td>\n",
       "      <td>A2ZINFRA</td>\n",
       "    </tr>\n",
       "    <tr>\n",
       "      <th>2</th>\n",
       "      <td>2012-01-04</td>\n",
       "      <td>90.45</td>\n",
       "      <td>90.50</td>\n",
       "      <td>87.50</td>\n",
       "      <td>88.35</td>\n",
       "      <td>241157</td>\n",
       "      <td>A2ZINFRA</td>\n",
       "    </tr>\n",
       "    <tr>\n",
       "      <th>3</th>\n",
       "      <td>2012-01-05</td>\n",
       "      <td>89.10</td>\n",
       "      <td>93.45</td>\n",
       "      <td>86.55</td>\n",
       "      <td>87.60</td>\n",
       "      <td>226102</td>\n",
       "      <td>A2ZINFRA</td>\n",
       "    </tr>\n",
       "    <tr>\n",
       "      <th>4</th>\n",
       "      <td>2012-01-06</td>\n",
       "      <td>87.00</td>\n",
       "      <td>89.45</td>\n",
       "      <td>86.30</td>\n",
       "      <td>87.70</td>\n",
       "      <td>97276</td>\n",
       "      <td>A2ZINFRA</td>\n",
       "    </tr>\n",
       "  </tbody>\n",
       "</table>\n",
       "</div>"
      ]
     },
     "execution_count": 6,
     "metadata": {},
     "output_type": "execute_result"
    }
   ],
   "execution_count": 6
  },
  {
   "metadata": {
    "ExecuteTime": {
     "end_time": "2025-06-08T08:32:13.007576Z",
     "start_time": "2025-06-08T08:32:12.909865Z"
    }
   },
   "cell_type": "code",
   "source": "stock_instruments = df['instrument'].unique()",
   "id": "ea2ab65c4b265954",
   "outputs": [],
   "execution_count": 7
  },
  {
   "metadata": {
    "ExecuteTime": {
     "end_time": "2025-06-08T08:32:20.534440Z",
     "start_time": "2025-06-08T08:32:20.508614Z"
    }
   },
   "cell_type": "code",
   "source": "len(stock_instruments)",
   "id": "20cb8eb3ff931c0b",
   "outputs": [
    {
     "data": {
      "text/plain": [
       "1412"
      ]
     },
     "execution_count": 8,
     "metadata": {},
     "output_type": "execute_result"
    }
   ],
   "execution_count": 8
  },
  {
   "metadata": {},
   "cell_type": "code",
   "outputs": [],
   "execution_count": null,
   "source": [
    "def get_trade_type():\n",
    "    #logic to weather buy, sell or hold\n",
    "    pass\n",
    "def register_trade():\n",
    "    pass\n"
   ],
   "id": "cc9b73fe32b8c39f"
  },
  {
   "metadata": {
    "ExecuteTime": {
     "end_time": "2025-06-08T04:33:45.653864Z",
     "start_time": "2025-06-08T04:33:40.658705Z"
    }
   },
   "cell_type": "code",
   "source": [
    "# %% [markdown]\n",
    "# # Backtest Your Strategy\n",
    "\n",
    "# %%\n",
    "import pandas as pd\n",
    "import random\n",
    "from datetime import datetime\n",
    "from TradeReplay.decision  import DecisionStrategy\n",
    "from TradeReplay.session   import Session\n",
    "\n",
    "# %% define a simple momentum strategy\n",
    "class MomentumStrategy(DecisionStrategy):\n",
    "    def __init__(self, lookback=3):\n",
    "        self.lookback = lookback\n",
    "        self.history  = {}\n",
    "\n",
    "    def decide(self, session, daily_df):\n",
    "        \"\"\"\n",
    "        daily_df: pd.DataFrame with columns [date, open, high, low, close, volume, instrument]\n",
    "        session: gives you session.portfolio and session.tradebook\n",
    "        \"\"\"\n",
    "        for sym, group in daily_df.groupby(\"instrumnet\"):\n",
    "            closes = group[\"close\"].tolist()\n",
    "            # store history\n",
    "            self.history.setdefault(sym, []).extend(closes)\n",
    "            # only act if we have lookback+1 days\n",
    "            prices = self.history[sym]\n",
    "            if len(prices) >= self.lookback + 1:\n",
    "                # simple momentum: if today’s close > close N days ago → BUY, else SELL\n",
    "                if prices[-1] > prices[-1-self.lookback]:\n",
    "                    session.portfolio.buy(sym, prices[-1], group[\"date\"].iloc[0], quantity=random.randrange(1,10))\n",
    "                elif sym in session.portfolio.holdings:\n",
    "                    session.portfolio.sell(sym, prices[-1], group[\"date\"].iloc[0], quantity=1)\n",
    "\n",
    "# %% parameters\n",
    "DATA_PATH  = \"Data/TrainingData.csv\"\n",
    "START_DATE = datetime(2012,1,2)\n",
    "END_DATE   = datetime(2012,6,30)\n",
    "\n",
    "# %% run backtest\n",
    "sess = Session(\n",
    "    data_path = DATA_PATH,\n",
    "    start_date=START_DATE,\n",
    "    end_date  = END_DATE,\n",
    "    brokerage = 0.0005,\n",
    "    investment=100000\n",
    ")\n",
    "strategy = MomentumStrategy(lookback=5)\n",
    "sess.run(strategy)\n",
    "\n",
    "# %% inspect results\n",
    "trades_df = pd.read_csv(sess.tradebook.filepath)\n",
    "display(trades_df.head(), trades_df.tail())\n",
    "# print(\"Final portfolio value:\",\n",
    "#       sess.portfolio.total_value(\n",
    "#           # use last known prices for mark-to-market\n",
    "#           { row.instrument: row.close\n",
    "#             for _, row in sess.loader.df[sess.loader.df.date == END_DATE].iterrows() }\n",
    "#       )\n",
    "# )\n",
    "holdings = sess.portfolio.holdings\n",
    "print(holdings)"
   ],
   "id": "387087a553485",
   "outputs": [
    {
     "data": {
      "text/plain": [
       "       symbol action                 date   price  quantity  net_amount\n",
       "0  FEDERALBNK    BUY  2012-01-07 00:00:00  180.65         8  1461.85260\n",
       "1    HINDZINC    BUY  2012-01-07 00:00:00  123.15         6   755.19945\n",
       "2    RELIANCE    BUY  2012-01-07 00:00:00  357.38         1   373.48869\n",
       "3       TECHM    BUY  2012-01-07 00:00:00  149.88         5   765.70470\n",
       "4    A2ZINFRA    BUY  2012-01-09 00:00:00   89.50         7   642.74325"
      ],
      "text/html": [
       "<div>\n",
       "<style scoped>\n",
       "    .dataframe tbody tr th:only-of-type {\n",
       "        vertical-align: middle;\n",
       "    }\n",
       "\n",
       "    .dataframe tbody tr th {\n",
       "        vertical-align: top;\n",
       "    }\n",
       "\n",
       "    .dataframe thead th {\n",
       "        text-align: right;\n",
       "    }\n",
       "</style>\n",
       "<table border=\"1\" class=\"dataframe\">\n",
       "  <thead>\n",
       "    <tr style=\"text-align: right;\">\n",
       "      <th></th>\n",
       "      <th>symbol</th>\n",
       "      <th>action</th>\n",
       "      <th>date</th>\n",
       "      <th>price</th>\n",
       "      <th>quantity</th>\n",
       "      <th>net_amount</th>\n",
       "    </tr>\n",
       "  </thead>\n",
       "  <tbody>\n",
       "    <tr>\n",
       "      <th>0</th>\n",
       "      <td>FEDERALBNK</td>\n",
       "      <td>BUY</td>\n",
       "      <td>2012-01-07 00:00:00</td>\n",
       "      <td>180.65</td>\n",
       "      <td>8</td>\n",
       "      <td>1461.85260</td>\n",
       "    </tr>\n",
       "    <tr>\n",
       "      <th>1</th>\n",
       "      <td>HINDZINC</td>\n",
       "      <td>BUY</td>\n",
       "      <td>2012-01-07 00:00:00</td>\n",
       "      <td>123.15</td>\n",
       "      <td>6</td>\n",
       "      <td>755.19945</td>\n",
       "    </tr>\n",
       "    <tr>\n",
       "      <th>2</th>\n",
       "      <td>RELIANCE</td>\n",
       "      <td>BUY</td>\n",
       "      <td>2012-01-07 00:00:00</td>\n",
       "      <td>357.38</td>\n",
       "      <td>1</td>\n",
       "      <td>373.48869</td>\n",
       "    </tr>\n",
       "    <tr>\n",
       "      <th>3</th>\n",
       "      <td>TECHM</td>\n",
       "      <td>BUY</td>\n",
       "      <td>2012-01-07 00:00:00</td>\n",
       "      <td>149.88</td>\n",
       "      <td>5</td>\n",
       "      <td>765.70470</td>\n",
       "    </tr>\n",
       "    <tr>\n",
       "      <th>4</th>\n",
       "      <td>A2ZINFRA</td>\n",
       "      <td>BUY</td>\n",
       "      <td>2012-01-09 00:00:00</td>\n",
       "      <td>89.50</td>\n",
       "      <td>7</td>\n",
       "      <td>642.74325</td>\n",
       "    </tr>\n",
       "  </tbody>\n",
       "</table>\n",
       "</div>"
      ]
     },
     "metadata": {},
     "output_type": "display_data"
    },
    {
     "data": {
      "text/plain": [
       "         symbol action                 date  price  quantity  net_amount\n",
       "569   NITINSPIN    BUY  2012-02-24 00:00:00   7.40         2   30.737400\n",
       "570  BIRLACABLE   SELL  2012-02-27 00:00:00  10.65         1   -5.285325\n",
       "571    BLISSGVS   SELL  2012-02-27 00:00:00  23.35         1    7.408325\n",
       "572   NITINSPIN   SELL  2012-02-27 00:00:00   6.95         1   -8.983475\n",
       "573         FSL   SELL  2012-03-01 00:00:00  12.25         1   -3.686125"
      ],
      "text/html": [
       "<div>\n",
       "<style scoped>\n",
       "    .dataframe tbody tr th:only-of-type {\n",
       "        vertical-align: middle;\n",
       "    }\n",
       "\n",
       "    .dataframe tbody tr th {\n",
       "        vertical-align: top;\n",
       "    }\n",
       "\n",
       "    .dataframe thead th {\n",
       "        text-align: right;\n",
       "    }\n",
       "</style>\n",
       "<table border=\"1\" class=\"dataframe\">\n",
       "  <thead>\n",
       "    <tr style=\"text-align: right;\">\n",
       "      <th></th>\n",
       "      <th>symbol</th>\n",
       "      <th>action</th>\n",
       "      <th>date</th>\n",
       "      <th>price</th>\n",
       "      <th>quantity</th>\n",
       "      <th>net_amount</th>\n",
       "    </tr>\n",
       "  </thead>\n",
       "  <tbody>\n",
       "    <tr>\n",
       "      <th>569</th>\n",
       "      <td>NITINSPIN</td>\n",
       "      <td>BUY</td>\n",
       "      <td>2012-02-24 00:00:00</td>\n",
       "      <td>7.40</td>\n",
       "      <td>2</td>\n",
       "      <td>30.737400</td>\n",
       "    </tr>\n",
       "    <tr>\n",
       "      <th>570</th>\n",
       "      <td>BIRLACABLE</td>\n",
       "      <td>SELL</td>\n",
       "      <td>2012-02-27 00:00:00</td>\n",
       "      <td>10.65</td>\n",
       "      <td>1</td>\n",
       "      <td>-5.285325</td>\n",
       "    </tr>\n",
       "    <tr>\n",
       "      <th>571</th>\n",
       "      <td>BLISSGVS</td>\n",
       "      <td>SELL</td>\n",
       "      <td>2012-02-27 00:00:00</td>\n",
       "      <td>23.35</td>\n",
       "      <td>1</td>\n",
       "      <td>7.408325</td>\n",
       "    </tr>\n",
       "    <tr>\n",
       "      <th>572</th>\n",
       "      <td>NITINSPIN</td>\n",
       "      <td>SELL</td>\n",
       "      <td>2012-02-27 00:00:00</td>\n",
       "      <td>6.95</td>\n",
       "      <td>1</td>\n",
       "      <td>-8.983475</td>\n",
       "    </tr>\n",
       "    <tr>\n",
       "      <th>573</th>\n",
       "      <td>FSL</td>\n",
       "      <td>SELL</td>\n",
       "      <td>2012-03-01 00:00:00</td>\n",
       "      <td>12.25</td>\n",
       "      <td>1</td>\n",
       "      <td>-3.686125</td>\n",
       "    </tr>\n",
       "  </tbody>\n",
       "</table>\n",
       "</div>"
      ]
     },
     "metadata": {},
     "output_type": "display_data"
    },
    {
     "name": "stdout",
     "output_type": "stream",
     "text": [
      "{}\n"
     ]
    }
   ],
   "execution_count": 9
  },
  {
   "metadata": {
    "ExecuteTime": {
     "end_time": "2025-06-08T03:55:07.996322Z",
     "start_time": "2025-06-08T03:55:07.986143Z"
    }
   },
   "cell_type": "code",
   "source": "holdings = sess.portfolio.holdings",
   "id": "32a1ced91f4a5c46",
   "outputs": [],
   "execution_count": 5
  },
  {
   "metadata": {
    "ExecuteTime": {
     "end_time": "2025-06-08T03:55:11.838693Z",
     "start_time": "2025-06-08T03:55:11.828260Z"
    }
   },
   "cell_type": "code",
   "source": "holdings",
   "id": "a18075cb913c883d",
   "outputs": [
    {
     "data": {
      "text/plain": [
       "{}"
      ]
     },
     "execution_count": 6,
     "metadata": {},
     "output_type": "execute_result"
    }
   ],
   "execution_count": 6
  },
  {
   "metadata": {
    "ExecuteTime": {
     "end_time": "2025-06-08T04:26:33.840573Z",
     "start_time": "2025-06-08T04:26:33.760667Z"
    }
   },
   "cell_type": "code",
   "source": "sess.portfolio.cash",
   "id": "c602316f5e62195d",
   "outputs": [
    {
     "data": {
      "text/plain": [
       "3.702964999992931"
      ]
     },
     "execution_count": 8,
     "metadata": {},
     "output_type": "execute_result"
    }
   ],
   "execution_count": 8
  },
  {
   "metadata": {
    "ExecuteTime": {
     "end_time": "2025-06-08T05:01:30.231227Z",
     "start_time": "2025-06-08T05:01:30.013819Z"
    }
   },
   "cell_type": "code",
   "source": [
    "import matplotlib.pyplot as plt\n",
    "plt.style.use('ggplot')\n",
    "df = pd.read_csv(\"tradebook.csv\")\n",
    "plt.plot(df['cash_after'], df['invested_after'])\n",
    "df.head()\n",
    "df.columns"
   ],
   "id": "42d96494acaf2c88",
   "outputs": [
    {
     "data": {
      "text/plain": [
       "Index(['symbol', 'action', 'date', 'price', 'quantity', 'net_amount',\n",
       "       'cash_after', 'invested_after'],\n",
       "      dtype='object')"
      ]
     },
     "execution_count": 11,
     "metadata": {},
     "output_type": "execute_result"
    },
    {
     "data": {
      "text/plain": [
       "<Figure size 640x480 with 1 Axes>"
      ],
      "image/png": "[encoded data removed]"
     },
     "metadata": {},
     "output_type": "display_data"
    }
   ],
   "execution_count": 11
  },
  {
   "metadata": {
    "ExecuteTime": {
     "end_time": "2025-06-08T05:02:03.699794Z",
     "start_time": "2025-06-08T05:02:03.654450Z"
    }
   },
   "cell_type": "code",
   "source": "",
   "id": "51a7296f793652a1",
   "outputs": [
    {
     "data": {
      "text/plain": [
       "       symbol action                 date   price  quantity   net_amount  \\\n",
       "0  FEDERALBNK    BUY  2012-01-07 00:00:00  180.65         1   196.670325   \n",
       "1    HINDZINC    BUY  2012-01-07 00:00:00  123.15         8  1001.622600   \n",
       "2    RELIANCE    BUY  2012-01-07 00:00:00  357.38         1   373.488690   \n",
       "3       TECHM    BUY  2012-01-07 00:00:00  149.88         7  1065.614580   \n",
       "4    A2ZINFRA    BUY  2012-01-09 00:00:00   89.50         8   732.288000   \n",
       "\n",
       "     cash_after  invested_after  \n",
       "0  99803.329675          180.65  \n",
       "1  98801.707075         1165.85  \n",
       "2  98428.218385         1523.23  \n",
       "3  97362.603805         2572.39  \n",
       "4  96630.315805         3288.39  "
      ],
      "text/html": [
       "<div>\n",
       "<style scoped>\n",
       "    .dataframe tbody tr th:only-of-type {\n",
       "        vertical-align: middle;\n",
       "    }\n",
       "\n",
       "    .dataframe tbody tr th {\n",
       "        vertical-align: top;\n",
       "    }\n",
       "\n",
       "    .dataframe thead th {\n",
       "        text-align: right;\n",
       "    }\n",
       "</style>\n",
       "<table border=\"1\" class=\"dataframe\">\n",
       "  <thead>\n",
       "    <tr style=\"text-align: right;\">\n",
       "      <th></th>\n",
       "      <th>symbol</th>\n",
       "      <th>action</th>\n",
       "      <th>date</th>\n",
       "      <th>price</th>\n",
       "      <th>quantity</th>\n",
       "      <th>net_amount</th>\n",
       "      <th>cash_after</th>\n",
       "      <th>invested_after</th>\n",
       "    </tr>\n",
       "  </thead>\n",
       "  <tbody>\n",
       "    <tr>\n",
       "      <th>0</th>\n",
       "      <td>FEDERALBNK</td>\n",
       "      <td>BUY</td>\n",
       "      <td>2012-01-07 00:00:00</td>\n",
       "      <td>180.65</td>\n",
       "      <td>1</td>\n",
       "      <td>196.670325</td>\n",
       "      <td>99803.329675</td>\n",
       "      <td>180.65</td>\n",
       "    </tr>\n",
       "    <tr>\n",
       "      <th>1</th>\n",
       "      <td>HINDZINC</td>\n",
       "      <td>BUY</td>\n",
       "      <td>2012-01-07 00:00:00</td>\n",
       "      <td>123.15</td>\n",
       "      <td>8</td>\n",
       "      <td>1001.622600</td>\n",
       "      <td>98801.707075</td>\n",
       "      <td>1165.85</td>\n",
       "    </tr>\n",
       "    <tr>\n",
       "      <th>2</th>\n",
       "      <td>RELIANCE</td>\n",
       "      <td>BUY</td>\n",
       "      <td>2012-01-07 00:00:00</td>\n",
       "      <td>357.38</td>\n",
       "      <td>1</td>\n",
       "      <td>373.488690</td>\n",
       "      <td>98428.218385</td>\n",
       "      <td>1523.23</td>\n",
       "    </tr>\n",
       "    <tr>\n",
       "      <th>3</th>\n",
       "      <td>TECHM</td>\n",
       "      <td>BUY</td>\n",
       "      <td>2012-01-07 00:00:00</td>\n",
       "      <td>149.88</td>\n",
       "      <td>7</td>\n",
       "      <td>1065.614580</td>\n",
       "      <td>97362.603805</td>\n",
       "      <td>2572.39</td>\n",
       "    </tr>\n",
       "    <tr>\n",
       "      <th>4</th>\n",
       "      <td>A2ZINFRA</td>\n",
       "      <td>BUY</td>\n",
       "      <td>2012-01-09 00:00:00</td>\n",
       "      <td>89.50</td>\n",
       "      <td>8</td>\n",
       "      <td>732.288000</td>\n",
       "      <td>96630.315805</td>\n",
       "      <td>3288.39</td>\n",
       "    </tr>\n",
       "  </tbody>\n",
       "</table>\n",
       "</div>"
      ]
     },
     "execution_count": 12,
     "metadata": {},
     "output_type": "execute_result"
    }
   ],
   "execution_count": 12
  },
  {
   "metadata": {
    "ExecuteTime": {
     "end_time": "2025-06-08T05:03:40.585116Z",
     "start_time": "2025-06-08T05:03:40.331876Z"
    }
   },
   "cell_type": "code",
   "source": [
    "import matplotlib.pyplot as plt\n",
    "\n",
    "# 1. Ensure your date column is datetime and sort\n",
    "df['date'] = pd.to_datetime(df['date'])\n",
    "df = df.sort_values('date')\n",
    "\n",
    "# 2. Plot cash and invested over time\n",
    "plt.figure()\n",
    "plt.plot(df['date'], df['cash_after'], label='Cash After')\n",
    "plt.plot(df['date'], df['invested_after'], label='Invested After')\n",
    "plt.xlabel('Date')\n",
    "plt.ylabel('Amount')\n",
    "plt.legend()\n",
    "plt.title('Portfolio Cash vs. Invested Value Over Time')\n",
    "plt.xticks(rotation=45)\n",
    "plt.tight_layout()\n",
    "plt.show()"
   ],
   "id": "2a131601e011a8ba",
   "outputs": [
    {
     "data": {
      "text/plain": [
       "<Figure size 640x480 with 1 Axes>"
      ],
      "image/png": "[encoded data removed]"
     },
     "metadata": {},
     "output_type": "display_data"
    }
   ],
   "execution_count": 13
  },
  {
   "metadata": {
    "ExecuteTime": {
     "end_time": "2025-06-08T07:19:52.983825Z",
     "start_time": "2025-06-08T07:19:52.912222Z"
    }
   },
   "cell_type": "code",
   "source": "import pandas_ta as ta",
   "id": "fd71c15394a250c6",
   "outputs": [
    {
     "ename": "ModuleNotFoundError",
     "evalue": "No module named 'pandas_ta'",
     "output_type": "error",
     "traceback": [
      "\u001B[31m---------------------------------------------------------------------------\u001B[39m",
      "\u001B[31mModuleNotFoundError\u001B[39m                       Traceback (most recent call last)",
      "\u001B[36mCell\u001B[39m\u001B[36m \u001B[39m\u001B[32mIn[17]\u001B[39m\u001B[32m, line 1\u001B[39m\n\u001B[32m----> \u001B[39m\u001B[32m1\u001B[39m \u001B[38;5;28;01mimport\u001B[39;00m\u001B[38;5;250m \u001B[39m\u001B[34;01mpandas_ta\u001B[39;00m\u001B[38;5;250m \u001B[39m\u001B[38;5;28;01mas\u001B[39;00m\u001B[38;5;250m \u001B[39m\u001B[34;01mta\u001B[39;00m\n",
      "\u001B[31mModuleNotFoundError\u001B[39m: No module named 'pandas_ta'"
     ]
    }
   ],
   "execution_count": 17
  },
  {
   "metadata": {
    "ExecuteTime": {
     "end_time": "2025-06-08T07:22:59.783931Z",
     "start_time": "2025-06-08T07:22:59.737765Z"
    }
   },
   "cell_type": "code",
   "source": [
    "import pandas as pd\n",
    "import pandas_ta as ta\n",
    "\n",
    "# load your data\n",
    "df = pd.read_csv(\"Data/TrainingData.csv\", parse_dates=[\"date\"])\n",
    "df = df.sort_values([\"instrument\",\"date\"])\n",
    "\n",
    "# Compute EMA-5 and EMA-20 for each symbol\n",
    "# pandas-ta’s groupby support lets you do it in one go:\n",
    "df[[\"ema5\",\"ema20\"]] = (\n",
    "    df\n",
    "    .groupby(\"instrument\")                  # for each stock\n",
    "    .apply(lambda d: pd.DataFrame({\n",
    "        \"ema5\":  d[\"close\"].ta.ema(length=5),\n",
    "        \"ema20\": d[\"close\"].ta.ema(length=20)\n",
    "    }))\n",
    "    .reset_index(level=0, drop=True)        # align back to original index\n",
    ")\n",
    "\n",
    "# peek\n",
    "df.head(10)"
   ],
   "id": "736816382c61acf3",
   "outputs": [
    {
     "ename": "ModuleNotFoundError",
     "evalue": "No module named 'pandas_ta'",
     "output_type": "error",
     "traceback": [
      "\u001B[31m---------------------------------------------------------------------------\u001B[39m",
      "\u001B[31mModuleNotFoundError\u001B[39m                       Traceback (most recent call last)",
      "\u001B[36mCell\u001B[39m\u001B[36m \u001B[39m\u001B[32mIn[2]\u001B[39m\u001B[32m, line 2\u001B[39m\n\u001B[32m      1\u001B[39m \u001B[38;5;28;01mimport\u001B[39;00m\u001B[38;5;250m \u001B[39m\u001B[34;01mpandas\u001B[39;00m\u001B[38;5;250m \u001B[39m\u001B[38;5;28;01mas\u001B[39;00m\u001B[38;5;250m \u001B[39m\u001B[34;01mpd\u001B[39;00m\n\u001B[32m----> \u001B[39m\u001B[32m2\u001B[39m \u001B[38;5;28;01mimport\u001B[39;00m\u001B[38;5;250m \u001B[39m\u001B[34;01mpandas_ta\u001B[39;00m\u001B[38;5;250m \u001B[39m\u001B[38;5;28;01mas\u001B[39;00m\u001B[38;5;250m \u001B[39m\u001B[34;01mta\u001B[39;00m\n\u001B[32m      4\u001B[39m \u001B[38;5;66;03m# load your data\u001B[39;00m\n\u001B[32m      5\u001B[39m df = pd.read_csv(\u001B[33m\"\u001B[39m\u001B[33mData/TrainingData.csv\u001B[39m\u001B[33m\"\u001B[39m, parse_dates=[\u001B[33m\"\u001B[39m\u001B[33mdate\u001B[39m\u001B[33m\"\u001B[39m])\n",
      "\u001B[31mModuleNotFoundError\u001B[39m: No module named 'pandas_ta'"
     ]
    }
   ],
   "execution_count": 2
  },
  {
   "metadata": {
    "ExecuteTime": {
     "end_time": "2025-06-08T12:56:04.581602Z",
     "start_time": "2025-06-08T12:56:04.439714Z"
    }
   },
   "cell_type": "code",
   "source": "len(df[df['date'] == \"2012-01-03\"]['instrument'].unique())\n",
   "id": "9559f86d5cf5763e",
   "outputs": [
    {
     "data": {
      "text/plain": [
       "908"
      ]
     },
     "execution_count": 11,
     "metadata": {},
     "output_type": "execute_result"
    }
   ],
   "execution_count": 11
  },
  {
   "metadata": {},
   "cell_type": "code",
   "outputs": [],
   "execution_count": null,
   "source": "",
   "id": "fc69db79c90f063c"
  }
 ],
 "metadata": {
  "kernelspec": {
   "display_name": "Python 3",
   "language": "python",
   "name": "python3"
  },
  "language_info": {
   "codemirror_mode": {
    "name": "ipython",
    "version": 2
   },
   "file_extension": ".py",
   "mimetype": "text/x-python",
   "name": "python",
   "nbconvert_exporter": "python",
   "pygments_lexer": "ipython2",
   "version": "2.7.6"
  }
 },
 "nbformat": 4,
 "nbformat_minor": 5
}
